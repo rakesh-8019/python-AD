{
 "cells": [
  {
   "cell_type": "code",
   "execution_count": 1,
   "id": "29abe129-c85f-48b3-a875-3771902194b0",
   "metadata": {},
   "outputs": [],
   "source": [
    "def calArea(r):\n",
    "    a=3.14*r*r\n",
    "    return a\n"
   ]
  },
  {
   "cell_type": "code",
   "execution_count": null,
   "id": "9b77ff69-bf81-4950-954b-1dadfedeba6b",
   "metadata": {},
   "outputs": [],
   "source": []
  },
  {
   "cell_type": "code",
   "execution_count": 4,
   "id": "d87b5567-4ab2-4a69-8ee6-43a5dc88ae53",
   "metadata": {},
   "outputs": [
    {
     "data": {
      "text/plain": [
       "2826.0"
      ]
     },
     "execution_count": 4,
     "metadata": {},
     "output_type": "execute_result"
    }
   ],
   "source": [
    "calArea(r=30)\n"
   ]
  },
  {
   "cell_type": "code",
   "execution_count": 7,
   "id": "3d2fddb7-668f-4397-9093-c16780c6accc",
   "metadata": {},
   "outputs": [
    {
     "data": {
      "text/plain": [
       "314.0"
      ]
     },
     "execution_count": 7,
     "metadata": {},
     "output_type": "execute_result"
    }
   ],
   "source": [
    "w=calArea(r=10)\n",
    "w\n"
   ]
  },
  {
   "cell_type": "code",
   "execution_count": 9,
   "id": "5f607eff-7d43-46c3-98c1-1fbd8e00ce8a",
   "metadata": {},
   "outputs": [
    {
     "data": {
      "text/plain": [
       "float"
      ]
     },
     "execution_count": 9,
     "metadata": {},
     "output_type": "execute_result"
    }
   ],
   "source": [
    "type(w)\n"
   ]
  },
  {
   "cell_type": "code",
   "execution_count": 11,
   "id": "d4a442bc-65d3-47b5-96e5-e8d0e85b4829",
   "metadata": {},
   "outputs": [
    {
     "data": {
      "text/plain": [
       "324.0"
      ]
     },
     "execution_count": 11,
     "metadata": {},
     "output_type": "execute_result"
    }
   ],
   "source": [
    "w+10"
   ]
  },
  {
   "cell_type": "code",
   "execution_count": 13,
   "id": "b37fe9db-9dab-40bf-8a48-d419b988681d",
   "metadata": {},
   "outputs": [
    {
     "name": "stdout",
     "output_type": "stream",
     "text": [
      "india\n"
     ]
    }
   ],
   "source": [
    "a=print('india')\n",
    "a\n"
   ]
  },
  {
   "cell_type": "code",
   "execution_count": 15,
   "id": "ce793408-aea4-420d-ab3f-1690d00e1481",
   "metadata": {},
   "outputs": [
    {
     "data": {
      "text/plain": [
       "NoneType"
      ]
     },
     "execution_count": 15,
     "metadata": {},
     "output_type": "execute_result"
    }
   ],
   "source": [
    "type(a)"
   ]
  },
  {
   "cell_type": "code",
   "execution_count": 17,
   "id": "8f5c52c5-9e56-4c46-8e45-e6ea9597cc43",
   "metadata": {},
   "outputs": [],
   "source": [
    "\n",
    "def aor(l,w):\n",
    "    area=l*w\n",
    "    return area"
   ]
  },
  {
   "cell_type": "code",
   "execution_count": 19,
   "id": "29bff4ec-4173-4b74-bad3-1e1033b95eba",
   "metadata": {},
   "outputs": [
    {
     "data": {
      "text/plain": [
       "50"
      ]
     },
     "execution_count": 19,
     "metadata": {},
     "output_type": "execute_result"
    }
   ],
   "source": [
    "aor(5,10)"
   ]
  },
  {
   "cell_type": "code",
   "execution_count": 21,
   "id": "c17b8b98-0955-4197-a75a-f486f8c839cf",
   "metadata": {},
   "outputs": [
    {
     "data": {
      "text/plain": [
       "50"
      ]
     },
     "execution_count": 21,
     "metadata": {},
     "output_type": "execute_result"
    }
   ],
   "source": [
    "aor(l=10,w=5)"
   ]
  },
  {
   "cell_type": "code",
   "execution_count": 23,
   "id": "ac1d1761-b7db-44b2-82cc-59c81a261a74",
   "metadata": {},
   "outputs": [],
   "source": [
    "def area(length,width,radius):\n",
    "    aor=length*width\n",
    "    aoc=3.14*radius*radius\n",
    "    return aor,aoc"
   ]
  },
  {
   "cell_type": "code",
   "execution_count": 25,
   "id": "c3038f1a-b9a6-4cd1-a8ce-2066a7ce2ff3",
   "metadata": {},
   "outputs": [
    {
     "data": {
      "text/plain": [
       "(50, 1256.0)"
      ]
     },
     "execution_count": 25,
     "metadata": {},
     "output_type": "execute_result"
    }
   ],
   "source": [
    "area(length=10,width=5,radius=20)"
   ]
  },
  {
   "cell_type": "code",
   "execution_count": 27,
   "id": "9035b581-52cf-4fce-8390-81464c24cd5f",
   "metadata": {},
   "outputs": [],
   "source": [
    "a=['Area of circle']"
   ]
  },
  {
   "cell_type": "code",
   "execution_count": 29,
   "id": "bea4378e-e540-4934-902a-5b4a272f8c40",
   "metadata": {},
   "outputs": [
    {
     "data": {
      "text/plain": [
       "'HyderabAAd 500008 Telangana'"
      ]
     },
     "execution_count": 29,
     "metadata": {},
     "output_type": "execute_result"
    }
   ],
   "source": [
    "t='HyderabAAd 500008 Telangana'\n",
    "t\n"
   ]
  },
  {
   "cell_type": "code",
   "execution_count": 31,
   "id": "7b92e8e4-d003-44c9-b425-fb0fede27587",
   "metadata": {},
   "outputs": [
    {
     "name": "stdout",
     "output_type": "stream",
     "text": [
      "Word count: 3\n",
      "Number count: 6\n"
     ]
    }
   ],
   "source": [
    "t = 'HyderabAAd 500008 Telangana'\n",
    "word_count = len(t.split())\n",
    "number_count = sum(c.isdigit() for c in t)\n",
    "print(f\"Word count: {word_count}\")\n",
    "print(f\"Number count: {number_count}\")"
   ]
  },
  {
   "cell_type": "code",
   "execution_count": null,
   "id": "d1ce0722-da5f-4804-b27c-89d668ce2290",
   "metadata": {},
   "outputs": [],
   "source": []
  }
 ],
 "metadata": {
  "kernelspec": {
   "display_name": "Python [conda env:base] *",
   "language": "python",
   "name": "conda-base-py"
  },
  "language_info": {
   "codemirror_mode": {
    "name": "ipython",
    "version": 3
   },
   "file_extension": ".py",
   "mimetype": "text/x-python",
   "name": "python",
   "nbconvert_exporter": "python",
   "pygments_lexer": "ipython3",
   "version": "3.12.7"
  }
 },
 "nbformat": 4,
 "nbformat_minor": 5
}
