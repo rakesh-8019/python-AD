{
 "cells": [
  {
   "cell_type": "code",
   "execution_count": null,
   "id": "c2c84ffe-7a20-41d4-814d-b1ee24a7220b",
   "metadata": {},
   "outputs": [],
   "source": [
    " a=[.2,344,78]\n",
    "a\n",
    "\n",
    "type(a)"
   ]
  },
  {
   "cell_type": "code",
   "execution_count": 7,
   "id": "589b63c8-0062-482c-8341-983ca72c1b9f",
   "metadata": {},
   "outputs": [
    {
     "data": {
      "text/plain": [
       "['apple', 6.44, True]"
      ]
     },
     "execution_count": 7,
     "metadata": {},
     "output_type": "execute_result"
    }
   ],
   "source": [
    "c=[\"apple\",6.44,True]\n",
    "c"
   ]
  },
  {
   "cell_type": "code",
   "execution_count": null,
   "id": "db530dab-622a-4b5b-8630-17414d58dd1a",
   "metadata": {},
   "outputs": [],
   "source": [
    "a"
   ]
  },
  {
   "cell_type": "code",
   "execution_count": 9,
   "id": "81267cd4-4615-4a6f-9747-5fdea5e446e9",
   "metadata": {},
   "outputs": [
    {
     "data": {
      "text/plain": [
       "[203, 'Hyderabad', 45, True, False, 78, 175, 34.9]"
      ]
     },
     "execution_count": 9,
     "metadata": {},
     "output_type": "execute_result"
    }
   ],
   "source": [
    "c=[203, 'Hyderabad', 45, True, False,78, 175, 34.9]\n",
    "c \n"
   ]
  },
  {
   "cell_type": "code",
   "execution_count": 11,
   "id": "4986351e-1f59-4e63-9f1a-d5d2678e36f0",
   "metadata": {},
   "outputs": [
    {
     "data": {
      "text/plain": [
       "'Hyderabad'"
      ]
     },
     "execution_count": 11,
     "metadata": {},
     "output_type": "execute_result"
    }
   ],
   "source": [
    "c[1]\n",
    " "
   ]
  },
  {
   "cell_type": "code",
   "execution_count": 13,
   "id": "9822a779-a2a1-4d30-8cc6-6f6321dd472a",
   "metadata": {},
   "outputs": [
    {
     "data": {
      "text/plain": [
       "[203, 'Hyderabad', 45, True, False, 78, 175, 34.9]"
      ]
     },
     "execution_count": 13,
     "metadata": {},
     "output_type": "execute_result"
    }
   ],
   "source": [
    "c"
   ]
  },
  {
   "cell_type": "code",
   "execution_count": 15,
   "id": "48d24d76-09b4-4d83-9a54-d5657526c97b",
   "metadata": {},
   "outputs": [
    {
     "data": {
      "text/plain": [
       "['Hyderabad', 45, True, False]"
      ]
     },
     "execution_count": 15,
     "metadata": {},
     "output_type": "execute_result"
    }
   ],
   "source": [
    "c[1:5] "
   ]
  },
  {
   "cell_type": "code",
   "execution_count": 17,
   "id": "d8586368-e14b-420a-a586-0ed134d236fa",
   "metadata": {
    "scrolled": true
   },
   "outputs": [
    {
     "data": {
      "text/plain": [
       "[203, 'Hyderabad', 45, True, False, 78]"
      ]
     },
     "execution_count": 17,
     "metadata": {},
     "output_type": "execute_result"
    }
   ],
   "source": [
    "c[0:6] "
   ]
  },
  {
   "cell_type": "code",
   "execution_count": 33,
   "id": "ee37cfca-facd-4857-aa7e-cc72f0279ee1",
   "metadata": {},
   "outputs": [
    {
     "data": {
      "text/plain": [
       "[203, 'Hyderabad', 45, True, False]"
      ]
     },
     "execution_count": 33,
     "metadata": {},
     "output_type": "execute_result"
    }
   ],
   "source": [
    "c[0:5:1]"
   ]
  },
  {
   "cell_type": "code",
   "execution_count": 21,
   "id": "1611eea1-2787-4437-b0e7-dffc9faca48f",
   "metadata": {},
   "outputs": [
    {
     "data": {
      "text/plain": [
       "[203, 45, False]"
      ]
     },
     "execution_count": 21,
     "metadata": {},
     "output_type": "execute_result"
    }
   ],
   "source": [
    "c[0:5:2]"
   ]
  },
  {
   "cell_type": "code",
   "execution_count": 27,
   "id": "c5a44871-d7be-4c7f-8a99-6293e1ce79aa",
   "metadata": {},
   "outputs": [
    {
     "data": {
      "text/plain": [
       "[175, 78, False, True, 45]"
      ]
     },
     "execution_count": 27,
     "metadata": {},
     "output_type": "execute_result"
    }
   ],
   "source": [
    "c[-2:-7:-1]"
   ]
  },
  {
   "cell_type": "code",
   "execution_count": 29,
   "id": "a8adab21-8169-43f4-9a90-5043d6f5fdb0",
   "metadata": {},
   "outputs": [
    {
     "data": {
      "text/plain": [
       "[175, 78, False, True]"
      ]
     },
     "execution_count": 29,
     "metadata": {},
     "output_type": "execute_result"
    }
   ],
   "source": [
    "c[6:2:-1]"
   ]
  },
  {
   "cell_type": "code",
   "execution_count": 37,
   "id": "87b05748-62d6-45d5-8999-8c445dc4d694",
   "metadata": {},
   "outputs": [
    {
     "data": {
      "text/plain": [
       "[34.9, 78]"
      ]
     },
     "execution_count": 37,
     "metadata": {},
     "output_type": "execute_result"
    }
   ],
   "source": [
    "c[-1:-5:-2]"
   ]
  },
  {
   "cell_type": "code",
   "execution_count": 39,
   "id": "d98da4b5-7e4a-41ae-8e2d-b49ea339d152",
   "metadata": {},
   "outputs": [
    {
     "data": {
      "text/plain": [
       "[175, 78, False, True]"
      ]
     },
     "execution_count": 39,
     "metadata": {},
     "output_type": "execute_result"
    }
   ],
   "source": [
    "c[-2:-6:-1]"
   ]
  },
  {
   "cell_type": "code",
   "execution_count": 41,
   "id": "7648b098-7083-4a90-bbfc-e3907f321596",
   "metadata": {},
   "outputs": [
    {
     "data": {
      "text/plain": [
       "[175, 78, False, True]"
      ]
     },
     "execution_count": 41,
     "metadata": {},
     "output_type": "execute_result"
    }
   ],
   "source": [
    "c[6:2:-1]"
   ]
  },
  {
   "cell_type": "code",
   "execution_count": 43,
   "id": "79878b1c-9c05-4652-8308-9f6da3f30b94",
   "metadata": {},
   "outputs": [],
   "source": [
    "c.append(80)"
   ]
  },
  {
   "cell_type": "code",
   "execution_count": 45,
   "id": "f864368d-e4c1-4380-a9a0-e670d257dd6d",
   "metadata": {},
   "outputs": [
    {
     "data": {
      "text/plain": [
       "[203, 'Hyderabad', 45, True, False, 78, 175, 34.9, 80]"
      ]
     },
     "execution_count": 45,
     "metadata": {},
     "output_type": "execute_result"
    }
   ],
   "source": [
    "c"
   ]
  },
  {
   "cell_type": "code",
   "execution_count": 49,
   "id": "4c002ea7-c44c-4302-8fb6-6d0ec0348ea7",
   "metadata": {},
   "outputs": [],
   "source": [
    "c.append(88)"
   ]
  },
  {
   "cell_type": "code",
   "execution_count": 51,
   "id": "c3936cf2-47e0-49fb-9ba0-503116900078",
   "metadata": {},
   "outputs": [
    {
     "data": {
      "text/plain": [
       "[203, 'Hyderabad', 45, True, False, 78, 175, 34.9, 80, 88, 88]"
      ]
     },
     "execution_count": 51,
     "metadata": {},
     "output_type": "execute_result"
    }
   ],
   "source": [
    "c"
   ]
  },
  {
   "cell_type": "code",
   "execution_count": 53,
   "id": "f131a517-5e06-4169-9f1e-a23d87db2d64",
   "metadata": {},
   "outputs": [
    {
     "data": {
      "text/plain": [
       "[203, 'Hyderabad', 'chitti', 45, True, False, 78, 175, 34.9, 80, 88, 88]"
      ]
     },
     "execution_count": 53,
     "metadata": {},
     "output_type": "execute_result"
    }
   ],
   "source": [
    "c.insert(2,'chitti')\n",
    "c"
   ]
  },
  {
   "cell_type": "code",
   "execution_count": 55,
   "id": "5b825b41-ed1d-4e56-83d7-f5c225317342",
   "metadata": {},
   "outputs": [
    {
     "data": {
      "text/plain": [
       "[203, 'Hyderabad', 'chitti', 45, True, False, 78, 175, 80, 88, 88]"
      ]
     },
     "execution_count": 55,
     "metadata": {},
     "output_type": "execute_result"
    }
   ],
   "source": [
    "c.remove(34.9)\n",
    "c"
   ]
  },
  {
   "cell_type": "code",
   "execution_count": 57,
   "id": "6c14a5a9-2e17-4741-9bf4-8c68f6dbd083",
   "metadata": {},
   "outputs": [
    {
     "data": {
      "text/plain": [
       "[203, 'Hyderabad', 'chitti', True, False, 78, 175, 80, 88, 88]"
      ]
     },
     "execution_count": 57,
     "metadata": {},
     "output_type": "execute_result"
    }
   ],
   "source": [
    "c.pop(3)\n",
    "c"
   ]
  },
  {
   "cell_type": "code",
   "execution_count": 59,
   "id": "ca6a9920-048e-4369-85ee-46b863135824",
   "metadata": {},
   "outputs": [
    {
     "data": {
      "text/plain": [
       "[203, 'Hyderabad', 'chitti', False, 78, 175, 80, 88, 88]"
      ]
     },
     "execution_count": 59,
     "metadata": {},
     "output_type": "execute_result"
    }
   ],
   "source": [
    "c.pop(3)\n",
    "c"
   ]
  },
  {
   "cell_type": "code",
   "execution_count": 61,
   "id": "f1fbf3dc-614a-4761-99b2-ad5c6c684866",
   "metadata": {},
   "outputs": [
    {
     "data": {
      "text/plain": [
       "78"
      ]
     },
     "execution_count": 61,
     "metadata": {},
     "output_type": "execute_result"
    }
   ],
   "source": [
    "c.pop(4)"
   ]
  },
  {
   "cell_type": "code",
   "execution_count": 91,
   "id": "feb960b8-ff12-4aba-841f-e04ff70fd355",
   "metadata": {},
   "outputs": [
    {
     "data": {
      "text/plain": [
       "(203, 'Hyderabad', 'chitti', False, 78, 175, 80, 88, 880)"
      ]
     },
     "execution_count": 91,
     "metadata": {},
     "output_type": "execute_result"
    }
   ],
   "source": [
    "c=(203, 'Hyderabad', 'chitti', False, 78, 175, 80, 88, 880)\n",
    "c"
   ]
  },
  {
   "cell_type": "code",
   "execution_count": 93,
   "id": "77f23ae6-5511-4caf-89ec-5e2b1681f137",
   "metadata": {},
   "outputs": [
    {
     "data": {
      "text/plain": [
       "(203, 'Hyderabad', 'chitti', False, 78, 175, 80, 88, 880)"
      ]
     },
     "execution_count": 93,
     "metadata": {},
     "output_type": "execute_result"
    }
   ],
   "source": [
    "c.count(88)\n",
    "c"
   ]
  },
  {
   "cell_type": "code",
   "execution_count": 95,
   "id": "fa3bfe10-8f69-46a6-aafc-49a31e02492d",
   "metadata": {},
   "outputs": [
    {
     "data": {
      "text/plain": [
       "1"
      ]
     },
     "execution_count": 95,
     "metadata": {},
     "output_type": "execute_result"
    }
   ],
   "source": [
    "c.count(88)"
   ]
  },
  {
   "cell_type": "code",
   "execution_count": 1,
   "id": "43b271fe-3f13-4f19-ab39-5d6c8bc307d6",
   "metadata": {},
   "outputs": [
    {
     "data": {
      "text/plain": [
       "(90, 70, 50, 30, 20)"
      ]
     },
     "execution_count": 1,
     "metadata": {},
     "output_type": "execute_result"
    }
   ],
   "source": [
    "h= (90,70,50,30,20)\n",
    "h"
   ]
  },
  {
   "cell_type": "code",
   "execution_count": 3,
   "id": "415991b7-bbd9-40e6-977c-c470ccd192b0",
   "metadata": {},
   "outputs": [
    {
     "data": {
      "text/plain": [
       "1"
      ]
     },
     "execution_count": 3,
     "metadata": {},
     "output_type": "execute_result"
    }
   ],
   "source": [
    "h.count(90)\n"
   ]
  },
  {
   "cell_type": "code",
   "execution_count": 5,
   "id": "2060d5f7-512a-417c-b22b-fdd89cd5633c",
   "metadata": {},
   "outputs": [
    {
     "data": {
      "text/plain": [
       "3"
      ]
     },
     "execution_count": 5,
     "metadata": {},
     "output_type": "execute_result"
    }
   ],
   "source": [
    "h.index(30)"
   ]
  },
  {
   "cell_type": "code",
   "execution_count": null,
   "id": "6fe95d1c-4041-42b2-b30f-3f82847e1a5e",
   "metadata": {},
   "outputs": [],
   "source": []
  }
 ],
 "metadata": {
  "kernelspec": {
   "display_name": "Python [conda env:base] *",
   "language": "python",
   "name": "conda-base-py"
  },
  "language_info": {
   "codemirror_mode": {
    "name": "ipython",
    "version": 3
   },
   "file_extension": ".py",
   "mimetype": "text/x-python",
   "name": "python",
   "nbconvert_exporter": "python",
   "pygments_lexer": "ipython3",
   "version": "3.12.7"
  }
 },
 "nbformat": 4,
 "nbformat_minor": 5
}
