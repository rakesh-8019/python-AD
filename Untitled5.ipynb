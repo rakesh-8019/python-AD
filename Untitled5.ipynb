{
 "cells": [
  {
   "cell_type": "code",
   "execution_count": 1,
   "id": "75ec3d5a-4f32-4e44-9826-acf78adc3bde",
   "metadata": {},
   "outputs": [
    {
     "data": {
      "text/plain": [
       "[40, 20, 80, 50, 30, 60, 90]"
      ]
     },
     "execution_count": 1,
     "metadata": {},
     "output_type": "execute_result"
    }
   ],
   "source": [
    "dollars=[40,20,80,50,30,60,90]\n",
    "dollars\n"
   ]
  },
  {
   "cell_type": "code",
   "execution_count": 3,
   "id": "6160c3d2-eebb-4856-beff-85cc230ba7d8",
   "metadata": {},
   "outputs": [],
   "source": [
    "list=[]\n",
    "for i in dollars:\n",
    "    list.append(i*85)\n"
   ]
  },
  {
   "cell_type": "code",
   "execution_count": 7,
   "id": "b4657e54-6829-4171-95ee-399192808118",
   "metadata": {},
   "outputs": [
    {
     "data": {
      "text/plain": [
       "[3400, 1700, 6800, 4250, 2550, 5100, 7650]"
      ]
     },
     "execution_count": 7,
     "metadata": {},
     "output_type": "execute_result"
    }
   ],
   "source": [
    "\n",
    "list"
   ]
  },
  {
   "cell_type": "code",
   "execution_count": null,
   "id": "80981e3a-118f-4c72-8da7-e4aee7a184cd",
   "metadata": {},
   "outputs": [],
   "source": []
  }
 ],
 "metadata": {
  "kernelspec": {
   "display_name": "Python [conda env:base] *",
   "language": "python",
   "name": "conda-base-py"
  },
  "language_info": {
   "codemirror_mode": {
    "name": "ipython",
    "version": 3
   },
   "file_extension": ".py",
   "mimetype": "text/x-python",
   "name": "python",
   "nbconvert_exporter": "python",
   "pygments_lexer": "ipython3",
   "version": "3.12.7"
  }
 },
 "nbformat": 4,
 "nbformat_minor": 5
}
