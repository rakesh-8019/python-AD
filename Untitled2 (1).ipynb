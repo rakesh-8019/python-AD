{
 "cells": [
  {
   "cell_type": "code",
   "execution_count": 1,
   "id": "832e83a2-32fe-4662-b046-a6e9f819d40c",
   "metadata": {},
   "outputs": [
    {
     "data": {
      "text/plain": [
       "int"
      ]
     },
     "execution_count": 1,
     "metadata": {},
     "output_type": "execute_result"
    }
   ],
   "source": [
    "a=67\n",
    "a\n",
    "type(a)"
   ]
  },
  {
   "cell_type": "code",
   "execution_count": 3,
   "id": "91da7b56-50a2-42e0-a7c6-ad84944ac228",
   "metadata": {},
   "outputs": [
    {
     "data": {
      "text/plain": [
       "float"
      ]
     },
     "execution_count": 3,
     "metadata": {},
     "output_type": "execute_result"
    }
   ],
   "source": [
    "b=32.65\n",
    "b\n",
    "type(b)\n"
   ]
  },
  {
   "cell_type": "code",
   "execution_count": 5,
   "id": "8d87afc9-b763-449f-86bd-19bb130d5f5e",
   "metadata": {},
   "outputs": [
    {
     "data": {
      "text/plain": [
       "float"
      ]
     },
     "execution_count": 5,
     "metadata": {},
     "output_type": "execute_result"
    }
   ],
   "source": [
    "b=32.65\n",
    "b\n",
    "type(b)\n"
   ]
  },
  {
   "cell_type": "code",
   "execution_count": 7,
   "id": "99ea1bcf-c2b3-4646-a075-2ac2d14fc1c0",
   "metadata": {},
   "outputs": [
    {
     "data": {
      "text/plain": [
       "str"
      ]
     },
     "execution_count": 7,
     "metadata": {},
     "output_type": "execute_result"
    }
   ],
   "source": [
    "c='rakesh'\n",
    "c\n",
    "type(c)"
   ]
  },
  {
   "cell_type": "code",
   "execution_count": 13,
   "id": "43fcd32a-043b-40b6-9b2e-cc0f8bac9df2",
   "metadata": {},
   "outputs": [
    {
     "data": {
      "text/plain": [
       "str"
      ]
     },
     "execution_count": 13,
     "metadata": {},
     "output_type": "execute_result"
    }
   ],
   "source": [
    "s='kaku'\n",
    "s\n",
    "type(s)"
   ]
  },
  {
   "cell_type": "code",
   "execution_count": 11,
   "id": "187e536a-9581-4851-8bd1-ed1937b0c8ff",
   "metadata": {},
   "outputs": [
    {
     "data": {
      "text/plain": [
       "'kadiyalarakesh'"
      ]
     },
     "execution_count": 11,
     "metadata": {},
     "output_type": "execute_result"
    }
   ],
   "source": [
    "s+c"
   ]
  },
  {
   "cell_type": "code",
   "execution_count": 15,
   "id": "96a67abd-63de-496a-809e-64d0bdf87b76",
   "metadata": {},
   "outputs": [
    {
     "data": {
      "text/plain": [
       "99.65"
      ]
     },
     "execution_count": 15,
     "metadata": {},
     "output_type": "execute_result"
    }
   ],
   "source": [
    "a+b"
   ]
  },
  {
   "cell_type": "code",
   "execution_count": 17,
   "id": "52bdaad3-b50c-4cc0-9484-33f64ae1e827",
   "metadata": {},
   "outputs": [
    {
     "data": {
      "text/plain": [
       "15"
      ]
     },
     "execution_count": 17,
     "metadata": {},
     "output_type": "execute_result"
    }
   ],
   "source": [
    "a=1\n",
    "b=2\n",
    "c=3\n",
    "d=4\n",
    "e=5\n",
    "a+b+c+d+e"
   ]
  },
  {
   "cell_type": "code",
   "execution_count": 21,
   "id": "7d8a161a-2ddd-46ea-92ed-7ed0ce6f0d29",
   "metadata": {},
   "outputs": [],
   "source": [
    "\n",
    "a=3\n",
    "b=5\n",
    "\n",
    "\n"
   ]
  },
  {
   "cell_type": "code",
   "execution_count": 23,
   "id": "aa866aee-949c-49ca-a56f-4c87b74461cd",
   "metadata": {},
   "outputs": [
    {
     "data": {
      "text/plain": [
       "8"
      ]
     },
     "execution_count": 23,
     "metadata": {},
     "output_type": "execute_result"
    }
   ],
   "source": [
    "c=a+b\n",
    "c\n",
    "8"
   ]
  },
  {
   "cell_type": "code",
   "execution_count": 25,
   "id": "903130a5-8168-4930-8c5a-36b80d2ff104",
   "metadata": {},
   "outputs": [
    {
     "data": {
      "text/plain": [
       "0.6"
      ]
     },
     "execution_count": 25,
     "metadata": {},
     "output_type": "execute_result"
    }
   ],
   "source": [
    "type(c)\n",
    "int\n",
    "d=a*b\n",
    "d\n",
    "15\n",
    "type(d)\n",
    "int\n",
    "e=a/b\n",
    "e"
   ]
  },
  {
   "cell_type": "code",
   "execution_count": 27,
   "id": "6e5ebd92-9713-4c86-b202-4903ae8a92ce",
   "metadata": {},
   "outputs": [
    {
     "data": {
      "text/plain": [
       "0.6"
      ]
     },
     "execution_count": 27,
     "metadata": {},
     "output_type": "execute_result"
    }
   ],
   "source": [
    "type(c)\n",
    "int\n",
    "d=a*b\n",
    "d\n",
    "15\n",
    "type(d)\n",
    "int\n",
    "e=a/b\n",
    "e"
   ]
  },
  {
   "cell_type": "code",
   "execution_count": 29,
   "id": "95e133b0-304c-4dd6-9e3f-3232265dcaa3",
   "metadata": {},
   "outputs": [
    {
     "data": {
      "text/plain": [
       "True"
      ]
     },
     "execution_count": 29,
     "metadata": {},
     "output_type": "execute_result"
    }
   ],
   "source": [
    "d=6.5\n",
    "d>=8.1 and d<=9.0\n",
    "False\n",
    "d>=8.1\n",
    "False\n",
    "d<=9.0\n",
    "True\n"
   ]
  },
  {
   "cell_type": "code",
   "execution_count": 31,
   "id": "a3bd2d6f-1662-4986-8bbe-ecafa3c995d0",
   "metadata": {},
   "outputs": [
    {
     "data": {
      "text/plain": [
       "['Hyderabad', 45, True, False, 78, 175]"
      ]
     },
     "execution_count": 31,
     "metadata": {},
     "output_type": "execute_result"
    }
   ],
   "source": [
    "d>=8.1 or d<=9.0\n",
    "True\n",
    "c=[203,'Hyderabad',45,True,False,78,175,34.90]\n",
    "c\n",
    "[203, 'Hyderabad', 45, True, False, 78, 175, 34.9]\n",
    "c[0]\n",
    "203\n",
    "c[1]\n",
    "'Hyderabad'\n",
    "c[1:7:1]\n",
    "['Hyderabad', 45, True, False, 78, 175]"
   ]
  },
  {
   "cell_type": "code",
   "execution_count": 33,
   "id": "87415898-5023-4e99-bde9-dd760280eef9",
   "metadata": {},
   "outputs": [],
   "source": [
    "c[-1:5:-1]\n",
    "[34.9, 175]\n",
    "c[-1:5:1]\n",
    "[]\n",
    "c[-1:-6]\n",
    "[]\n",
    "c[0:6]\n",
    "[203, 'Hyderabad', 45, True, False, 78]\n",
    "c.append(80)"
   ]
  },
  {
   "cell_type": "code",
   "execution_count": 35,
   "id": "53563c39-e5a7-4290-a531-c9daa57283ae",
   "metadata": {},
   "outputs": [
    {
     "data": {
      "text/plain": [
       "[203, 'Hyderabad', 45, True, False, 78, 175, 34.9]"
      ]
     },
     "execution_count": 35,
     "metadata": {},
     "output_type": "execute_result"
    }
   ],
   "source": [
    "\n",
    "[203, 90, 'Hyderabad', 90, True, False, 78, 175, 34.9, 80]\n",
    "c.pop(6)\n",
    "78\n",
    "c\n",
    "[203, 90, 'Hyderabad', 90, True, False, 175, 34.9, 80]\n",
    "c.pop(3)\n",
    "90\n",
    "c\n",
    "[203, 90, 'Hyderabad', True, False, 175, 34.9, 80]\n",
    "c=[203,'Hyderabad',45,True,False,78,175,34.90]\n",
    "c\n"
   ]
  },
  {
   "cell_type": "code",
   "execution_count": 37,
   "id": "cdaff25c-3ad5-437b-99af-d566cbce09b3",
   "metadata": {},
   "outputs": [
    {
     "data": {
      "text/plain": [
       "1"
      ]
     },
     "execution_count": 37,
     "metadata": {},
     "output_type": "execute_result"
    }
   ],
   "source": [
    "[203, 'Hyderabad', 45, True, False, 78, 175, 34.9]\n",
    "c.count(78)\n",
    "1\n"
   ]
  },
  {
   "cell_type": "code",
   "execution_count": null,
   "id": "63708975-33ed-44e9-b1db-78a62bc76439",
   "metadata": {},
   "outputs": [],
   "source": []
  }
 ],
 "metadata": {
  "kernelspec": {
   "display_name": "Python [conda env:base] *",
   "language": "python",
   "name": "conda-base-py"
  },
  "language_info": {
   "codemirror_mode": {
    "name": "ipython",
    "version": 3
   },
   "file_extension": ".py",
   "mimetype": "text/x-python",
   "name": "python",
   "nbconvert_exporter": "python",
   "pygments_lexer": "ipython3",
   "version": "3.12.7"
  }
 },
 "nbformat": 4,
 "nbformat_minor": 5
}
