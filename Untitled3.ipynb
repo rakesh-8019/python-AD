{
 "cells": [
  {
   "cell_type": "code",
   "execution_count": 1,
   "id": "a66bbb5a-4e01-41c1-a9e9-41661d0fcc19",
   "metadata": {},
   "outputs": [
    {
     "data": {
      "text/plain": [
       "{101: 200, 102: 60, 105: 50}"
      ]
     },
     "execution_count": 1,
     "metadata": {},
     "output_type": "execute_result"
    }
   ],
   "source": [
    "d={101: 200,102: 60,105: 50}\n",
    "d\n"
   ]
  },
  {
   "cell_type": "code",
   "execution_count": 3,
   "id": "e9946ae6-00ff-4925-9cfc-a068d4c885e5",
   "metadata": {},
   "outputs": [
    {
     "data": {
      "text/plain": [
       "{101: 'india', 102: 60, 105: 50}"
      ]
     },
     "execution_count": 3,
     "metadata": {},
     "output_type": "execute_result"
    }
   ],
   "source": [
    "d.update({101: 'india'})\n",
    "d\n"
   ]
  },
  {
   "cell_type": "code",
   "execution_count": 5,
   "id": "1a32b6a9-87a7-4fd2-bb95-120214bfc801",
   "metadata": {},
   "outputs": [
    {
     "data": {
      "text/plain": [
       "dict_keys([101, 102, 105])"
      ]
     },
     "execution_count": 5,
     "metadata": {},
     "output_type": "execute_result"
    }
   ],
   "source": [
    "d.keys()"
   ]
  },
  {
   "cell_type": "code",
   "execution_count": 7,
   "id": "e062c24b-2342-455b-86c7-5eafa8090534",
   "metadata": {},
   "outputs": [
    {
     "data": {
      "text/plain": [
       "dict_items([(101, 'india'), (102, 60), (105, 50)])"
      ]
     },
     "execution_count": 7,
     "metadata": {},
     "output_type": "execute_result"
    }
   ],
   "source": [
    "d.items()"
   ]
  },
  {
   "cell_type": "raw",
   "id": "c3494e5a-d840-49ce-b2e6-f48c038b645e",
   "metadata": {},
   "source": [
    "d.values()"
   ]
  },
  {
   "cell_type": "code",
   "execution_count": 12,
   "id": "35fe05f4-d59e-486f-b7b7-265dd00427c4",
   "metadata": {},
   "outputs": [
    {
     "data": {
      "text/plain": [
       "{101: 'india', 102: 60, 105: [11, 15, 13]}"
      ]
     },
     "execution_count": 12,
     "metadata": {},
     "output_type": "execute_result"
    }
   ],
   "source": [
    "d[105]=[11,15,13]\n",
    "d\n"
   ]
  },
  {
   "cell_type": "code",
   "execution_count": 14,
   "id": "0dcd5480-8901-47c1-8f42-4bc2708d973b",
   "metadata": {},
   "outputs": [
    {
     "data": {
      "text/plain": [
       "str"
      ]
     },
     "execution_count": 14,
     "metadata": {},
     "output_type": "execute_result"
    }
   ],
   "source": [
    "type(d[101])\n"
   ]
  },
  {
   "cell_type": "code",
   "execution_count": 18,
   "id": "cedd3c6b-c01b-4f00-bdee-990cb95cff1a",
   "metadata": {},
   "outputs": [
    {
     "data": {
      "text/plain": [
       "{101: 200,\n",
       " 102: 600,\n",
       " 103: 'india',\n",
       " 104: 4000,\n",
       " 107: 'india',\n",
       " 106: [100, 2000, 3000]}"
      ]
     },
     "execution_count": 18,
     "metadata": {},
     "output_type": "execute_result"
    }
   ],
   "source": [
    "d1={101: 200, 102: 600, 103: 'india', 104: 4000, 107: 'india',106: [100,2000,3000]}\n",
    "d1\n"
   ]
  },
  {
   "cell_type": "code",
   "execution_count": 20,
   "id": "1bdc33b4-8dd7-4c04-91a5-5383cc92be9b",
   "metadata": {},
   "outputs": [
    {
     "data": {
      "text/plain": [
       "4000"
      ]
     },
     "execution_count": 20,
     "metadata": {},
     "output_type": "execute_result"
    }
   ],
   "source": [
    "d1[104]"
   ]
  },
  {
   "cell_type": "code",
   "execution_count": 22,
   "id": "5c1a011c-d154-4085-b2c2-63b1d7cb1328",
   "metadata": {},
   "outputs": [
    {
     "data": {
      "text/plain": [
       "int"
      ]
     },
     "execution_count": 22,
     "metadata": {},
     "output_type": "execute_result"
    }
   ],
   "source": [
    "type(d1[104])"
   ]
  },
  {
   "cell_type": "code",
   "execution_count": 24,
   "id": "477293d3-77a5-42fb-82dd-53c36a7929dc",
   "metadata": {},
   "outputs": [
    {
     "data": {
      "text/plain": [
       "0"
      ]
     },
     "execution_count": 24,
     "metadata": {},
     "output_type": "execute_result"
    }
   ],
   "source": [
    "d1[106].count(30)"
   ]
  },
  {
   "cell_type": "code",
   "execution_count": 26,
   "id": "4d67a536-359a-443d-a349-d2bc9145c70f",
   "metadata": {},
   "outputs": [
    {
     "data": {
      "text/plain": [
       "{101: 'india', 102: 60, 105: [11, 15, 13]}"
      ]
     },
     "execution_count": 26,
     "metadata": {},
     "output_type": "execute_result"
    }
   ],
   "source": [
    "d1[106].append(30)\n",
    "d\n"
   ]
  },
  {
   "cell_type": "code",
   "execution_count": 28,
   "id": "709e1132-d3cd-4abc-8302-265280730973",
   "metadata": {},
   "outputs": [
    {
     "data": {
      "text/plain": [
       "{101: 'india', 102: 60, 105: [11, 15, 13]}"
      ]
     },
     "execution_count": 28,
     "metadata": {},
     "output_type": "execute_result"
    }
   ],
   "source": [
    "d1[106].insert(2,5500)\n",
    "d\n"
   ]
  },
  {
   "cell_type": "code",
   "execution_count": 30,
   "id": "cf65b770-1132-44ee-a154-0542e63945bf",
   "metadata": {},
   "outputs": [
    {
     "data": {
      "text/plain": [
       "{101: 200,\n",
       " 102: 600,\n",
       " 103: (30, 40, 50, 60, 70),\n",
       " 104: 4000,\n",
       " 107: 'india',\n",
       " 106: [100, 2000, 5500, 3000, 30]}"
      ]
     },
     "execution_count": 30,
     "metadata": {},
     "output_type": "execute_result"
    }
   ],
   "source": [
    "d1.update({103:(30,40,50,60,70)})\n",
    "d1\n"
   ]
  },
  {
   "cell_type": "code",
   "execution_count": 34,
   "id": "12b0d499-7e5e-4836-9262-701d4335a78c",
   "metadata": {},
   "outputs": [
    {
     "data": {
      "text/plain": [
       "(30, 40, 50, 60, 70)"
      ]
     },
     "execution_count": 34,
     "metadata": {},
     "output_type": "execute_result"
    }
   ],
   "source": [
    "d1[103]"
   ]
  },
  {
   "cell_type": "code",
   "execution_count": 38,
   "id": "79517e45-b74d-44da-bfe7-1c84b0ac2f67",
   "metadata": {},
   "outputs": [
    {
     "data": {
      "text/plain": [
       "tuple"
      ]
     },
     "execution_count": 38,
     "metadata": {},
     "output_type": "execute_result"
    }
   ],
   "source": [
    "type(d1[103])"
   ]
  },
  {
   "cell_type": "code",
   "execution_count": 40,
   "id": "174cf522-9eb8-4299-8e76-0c4e07a2da7a",
   "metadata": {},
   "outputs": [
    {
     "data": {
      "text/plain": [
       "{101: 200,\n",
       " 102: 600,\n",
       " 103: (30, 40, 50, 60, 70),\n",
       " 104: 4000,\n",
       " 107: 'india',\n",
       " 106: [100, 2000, 5500, 3000, 30]}"
      ]
     },
     "execution_count": 40,
     "metadata": {},
     "output_type": "execute_result"
    }
   ],
   "source": [
    "d1"
   ]
  },
  {
   "cell_type": "code",
   "execution_count": null,
   "id": "13f9b93d-fab9-4c6a-b6ba-384b141e1ae8",
   "metadata": {},
   "outputs": [],
   "source": []
  }
 ],
 "metadata": {
  "kernelspec": {
   "display_name": "Python [conda env:base] *",
   "language": "python",
   "name": "conda-base-py"
  },
  "language_info": {
   "codemirror_mode": {
    "name": "ipython",
    "version": 3
   },
   "file_extension": ".py",
   "mimetype": "text/x-python",
   "name": "python",
   "nbconvert_exporter": "python",
   "pygments_lexer": "ipython3",
   "version": "3.12.7"
  }
 },
 "nbformat": 4,
 "nbformat_minor": 5
}
