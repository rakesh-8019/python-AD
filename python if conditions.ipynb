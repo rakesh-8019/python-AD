{
 "cells": [
  {
   "cell_type": "code",
   "execution_count": null,
   "id": "b3f8bf00-0004-480e-a0fe-f6c78129a021",
   "metadata": {},
   "outputs": [],
   "source": [
    "if condition1:\n",
    "    task1 block of code\n",
    "elif condition2:\n",
    "    task2 block of code\n",
    "elif condition3:\n",
    "    task2 block of code\n",
    "    .\n",
    "    .\n",
    "    .\n",
    "elif condition n:\n",
    "     task n\n",
    "else:\n",
    "    task4 block of code  \n"
   ]
  },
  {
   "cell_type": "code",
   "execution_count": 16,
   "id": "fefaf983-45aa-405e-be36-522de25d7c26",
   "metadata": {},
   "outputs": [
    {
     "name": "stdout",
     "output_type": "stream",
     "text": [
      "Even\n"
     ]
    }
   ],
   "source": [
    "x=9\n",
    "if x+6:\n",
    "   print(\"Even\")\n",
    "else:\n",
    "    print(\"odd\")\n"
   ]
  },
  {
   "cell_type": "code",
   "execution_count": 18,
   "id": "046ecacb-b83c-40e5-9a62-0de370de80c4",
   "metadata": {},
   "outputs": [
    {
     "data": {
      "text/plain": [
       "9"
      ]
     },
     "execution_count": 18,
     "metadata": {},
     "output_type": "execute_result"
    }
   ],
   "source": [
    "x"
   ]
  },
  {
   "cell_type": "code",
   "execution_count": 10,
   "id": "349ce09d-9e78-48b8-bcf8-00a96abf0d70",
   "metadata": {},
   "outputs": [
    {
     "data": {
      "text/plain": [
       "False"
      ]
     },
     "execution_count": 10,
     "metadata": {},
     "output_type": "execute_result"
    }
   ],
   "source": [
    "x%2==0"
   ]
  },
  {
   "cell_type": "code",
   "execution_count": 14,
   "id": "01b21a44-153c-4da6-a887-3e5a10c9c3ad",
   "metadata": {},
   "outputs": [
    {
     "data": {
      "text/plain": [
       "15.7"
      ]
     },
     "execution_count": 14,
     "metadata": {},
     "output_type": "execute_result"
    }
   ],
   "source": [
    "x+6.7"
   ]
  },
  {
   "cell_type": "code",
   "execution_count": 20,
   "id": "e69172ce-b6cb-4ebe-acc4-e2f5c445b174",
   "metadata": {},
   "outputs": [
    {
     "data": {
      "text/plain": [
       "True"
      ]
     },
     "execution_count": 20,
     "metadata": {},
     "output_type": "execute_result"
    }
   ],
   "source": [
    "bool(x+6)"
   ]
  },
  {
   "cell_type": "code",
   "execution_count": 26,
   "id": "fd6b228e-82f2-44d6-bbf3-393fdd5b0ba5",
   "metadata": {},
   "outputs": [
    {
     "name": "stdout",
     "output_type": "stream",
     "text": [
      "neg\n"
     ]
    }
   ],
   "source": [
    "x=-5.8\n",
    "if x>0:\n",
    "    print('pos')\n",
    "elif x<0:\n",
    "    print('neg')\n",
    "else:\n",
    "    print('zero')"
   ]
  },
  {
   "cell_type": "code",
   "execution_count": 56,
   "id": "a557fd09-5816-4292-91d1-38f4d6b9fdc6",
   "metadata": {},
   "outputs": [
    {
     "name": "stdout",
     "output_type": "stream",
     "text": [
      "pos\n",
      "C\n"
     ]
    }
   ],
   "source": [
    "x=1\n",
    "\n",
    "if x>0:\n",
    "    print('pos')\n",
    "    if x>20:\n",
    "        print('M')\n",
    "    elif x>10:\n",
    "        print(\"P\")\n",
    "    elif x<10:\n",
    "        print(\"C\")\n",
    "    else:\n",
    "        print(\"T\")\n",
    "elif x<0:\n",
    "    print(\"neg\")\n",
    "\n",
    "    if x<-20:\n",
    "        print(\"Q\")\n",
    "    elif x>-10:\n",
    "        print(\"C\")\n",
    "    elif x>-30:\n",
    "        print(\"Z\")\n",
    "\n",
    "else:\n",
    "    print(\"zero\")\n",
    "    "
   ]
  },
  {
   "cell_type": "code",
   "execution_count": 66,
   "id": "4e01c0b8-f711-4c2d-978c-9a3dfeb4991b",
   "metadata": {},
   "outputs": [
    {
     "name": "stdout",
     "output_type": "stream",
     "text": [
      "no\n"
     ]
    }
   ],
   "source": [
    "x= 'telangana'\n",
    "x= 'Tiger'\n",
    "x= 'Tan'\n",
    "if x==\"T\":\n",
    "    print(\"yes\")\n",
    "else:\n",
    "    print(\"no\")\n",
    "    "
   ]
  },
  {
   "cell_type": "code",
   "execution_count": 88,
   "id": "5668aa86-4360-4ea6-80e9-e19247bdbf58",
   "metadata": {},
   "outputs": [
    {
     "name": "stdout",
     "output_type": "stream",
     "text": [
      "yes\n"
     ]
    }
   ],
   "source": [
    "x= 'tiger'\n",
    "if x[0]==\"t\" or x[0]==\"T\":\n",
    "    print('yes')\n",
    "else:\n",
    "    print('no')"
   ]
  },
  {
   "cell_type": "code",
   "execution_count": 82,
   "id": "2ca56fb8-c5b0-4cb7-aba0-cbd8f1fddf5c",
   "metadata": {},
   "outputs": [
    {
     "name": "stdout",
     "output_type": "stream",
     "text": [
      "no\n"
     ]
    }
   ],
   "source": [
    "x= 'Tiger'\n",
    "if x[0]==\"t\":\n",
    "    print(\"yes\")\n",
    "else:\n",
    "    print(\"no\")"
   ]
  },
  {
   "cell_type": "code",
   "execution_count": 100,
   "id": "80a839fa-f771-4cd2-b960-44a254e9d78c",
   "metadata": {},
   "outputs": [
    {
     "name": "stdout",
     "output_type": "stream",
     "text": [
      "yes\n"
     ]
    }
   ],
   "source": [
    "x= \"tiger\"\n",
    "x=\"saw\"\n",
    "x=\"note\"\n",
    "if x[0]==\"t\" or x[0]==\"s\" or x[0]==\"n\":\n",
    "    print(\"yes\")\n",
    "else:\n",
    "    print(\"no\")"
   ]
  },
  {
   "cell_type": "code",
   "execution_count": 112,
   "id": "d1046059-428f-4575-a187-90f2a9ef4615",
   "metadata": {},
   "outputs": [
    {
     "name": "stdout",
     "output_type": "stream",
     "text": [
      "yes\n"
     ]
    }
   ],
   "source": [
    "x= \"tiger\"\n",
    "if x[0].lower()=='t':\n",
    "    print('yes')\n",
    "else:\n",
    "    print('noo')"
   ]
  },
  {
   "cell_type": "code",
   "execution_count": 120,
   "id": "6fe04402-02eb-4448-8563-6d1d0eebfeb5",
   "metadata": {},
   "outputs": [
    {
     "name": "stdout",
     "output_type": "stream",
     "text": [
      "yes\n"
     ]
    }
   ],
   "source": [
    "x= \"hat\"\n",
    "if x[0].lower() in ('s','m','h'):\n",
    "    print('yes')\n",
    "else:\n",
    "    print(\"nooo\")\n"
   ]
  },
  {
   "cell_type": "code",
   "execution_count": null,
   "id": "7d4225ce-04d4-4f8f-8ac5-1d02cf9e0173",
   "metadata": {},
   "outputs": [],
   "source": []
  }
 ],
 "metadata": {
  "kernelspec": {
   "display_name": "Python [conda env:base] *",
   "language": "python",
   "name": "conda-base-py"
  },
  "language_info": {
   "codemirror_mode": {
    "name": "ipython",
    "version": 3
   },
   "file_extension": ".py",
   "mimetype": "text/x-python",
   "name": "python",
   "nbconvert_exporter": "python",
   "pygments_lexer": "ipython3",
   "version": "3.12.7"
  }
 },
 "nbformat": 4,
 "nbformat_minor": 5
}
